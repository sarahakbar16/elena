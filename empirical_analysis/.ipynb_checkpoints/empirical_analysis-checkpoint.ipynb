{
 "cells": [
  {
   "cell_type": "markdown",
   "id": "1f827de2",
   "metadata": {},
   "source": [
    "# Empirical analysis\n",
    "\n",
    "### This notebook contains the run-time analysis for Dijkstra and A* algorithms"
   ]
  },
  {
   "cell_type": "code",
   "execution_count": 7,
   "id": "37e83d2f",
   "metadata": {},
   "outputs": [],
   "source": [
    "import numpy as np\n",
    "import pandas as pd\n",
    "from scipy.stats import normaltest, shapiro, ttest_ind\n",
    "\n",
    "import plotly.express as px"
   ]
  },
  {
   "cell_type": "code",
   "execution_count": 2,
   "id": "ea2d0d12",
   "metadata": {},
   "outputs": [],
   "source": [
    "with open(\"run_time_data/dijkstra_time.txt\", 'r') as f:\n",
    "    dijkstra_runtime_string = f.readlines()\n",
    "    \n",
    "with open(\"run_time_data/astar_time.txt\", 'r') as f:\n",
    "    astar_runtime_string = f.readlines()"
   ]
  },
  {
   "cell_type": "code",
   "execution_count": 3,
   "id": "772f30db",
   "metadata": {},
   "outputs": [],
   "source": [
    "dijkstra_runtime = []\n",
    "\n",
    "for runtime in dijkstra_runtime_string:\n",
    "    dijkstra_runtime.append(float(runtime.strip()))\n",
    "    \n",
    "astar_runtime = []\n",
    "\n",
    "for runtime in astar_runtime_string:\n",
    "    astar_runtime.append(float(runtime.strip()))"
   ]
  },
  {
   "cell_type": "markdown",
   "id": "f6936e53",
   "metadata": {},
   "source": [
    "### Normality testing of Dijkstra algorithm's sample runtimes"
   ]
  },
  {
   "cell_type": "code",
   "execution_count": 4,
   "id": "b1dc92fc",
   "metadata": {},
   "outputs": [
    {
     "name": "stdout",
     "output_type": "stream",
     "text": [
      "Statistics=5.486, p=0.064\n",
      "Sample looks Gaussian (fail to reject H0)\n"
     ]
    }
   ],
   "source": [
    "stat, p = normaltest(dijkstra_runtime)\n",
    "print('Statistics=%.3f, p=%.3f' % (stat, p))\n",
    "\n",
    "alpha = 0.05\n",
    "\n",
    "if p > alpha:\n",
    "    print('Sample looks Gaussian (fail to reject H0)')\n",
    "else:\n",
    "    print('Sample does not look Gaussian (reject H0)')"
   ]
  },
  {
   "cell_type": "markdown",
   "id": "bd0e797c",
   "metadata": {},
   "source": [
    "Based on the P-value, we conclude that the sample runtimes of Dijkstra algorithm come from a Gaussian distribution."
   ]
  },
  {
   "cell_type": "markdown",
   "id": "2fe75b20",
   "metadata": {},
   "source": [
    "### Normality testing of A* algorithm's sample runtimes\n",
    "\n",
    "#### We use a test based on D’Agostino and Pearson’s tests that combines skew and kurtosis to produce an omnibus test of normality."
   ]
  },
  {
   "cell_type": "code",
   "execution_count": 11,
   "id": "af756789",
   "metadata": {},
   "outputs": [
    {
     "name": "stdout",
     "output_type": "stream",
     "text": [
      "Statistics=3.642, p-value=0.162\n",
      "Sample looks Gaussian (fail to reject H0)\n"
     ]
    }
   ],
   "source": [
    "stat, p = normaltest(astar_runtime)\n",
    "print('Statistics=%.3f, p-value=%.3f' % (stat, p))\n",
    "\n",
    "alpha = 0.05\n",
    "\n",
    "if p > alpha:\n",
    "    print('Sample looks Gaussian (fail to reject H0)')\n",
    "else:\n",
    "    print('Sample does not look Gaussian (reject H0)')"
   ]
  },
  {
   "cell_type": "markdown",
   "id": "d3d96149",
   "metadata": {},
   "source": [
    "Based on the P-value, we conclude that the sample runtimes of A* algorithm come from a Gaussian distribution.\n",
    "\n",
    "#### Since both the samples come from a Gaussian distribution, we can use parametric statistical tests to see whether the two distributions are the same"
   ]
  },
  {
   "cell_type": "markdown",
   "id": "bb69d784",
   "metadata": {},
   "source": [
    "### Comparison of the two distributions\n",
    "\n",
    "#### We use Student's t-test to see if the the means of the two distributions are statistically significant"
   ]
  },
  {
   "cell_type": "code",
   "execution_count": 12,
   "id": "d477e13c",
   "metadata": {},
   "outputs": [
    {
     "name": "stdout",
     "output_type": "stream",
     "text": [
      "Mean of Dijkstra's sampled runtime values:  0.3833887504577637\n",
      "Mean of A*'s sampled runtime values:  0.6835552072525024\n",
      "\n",
      "\n",
      "stat=-217.575, p-value=0.000\n",
      "They are different distributions\n"
     ]
    }
   ],
   "source": [
    "print(\"Mean of Dijkstra's sampled runtime values: \", np.mean(dijkstra_runtime))\n",
    "print(\"Mean of A*'s sampled runtime values: \", np.mean(astar_runtime))\n",
    "\n",
    "stat, p = ttest_ind(dijkstra_runtime, astar_runtime)\n",
    "print('\\nstat=%.3f, p-value=%.3f' % (stat, p))\n",
    "if p > 0.05:\n",
    "    print('They are the same distribution')\n",
    "else:\n",
    "    print('They are different distributions')"
   ]
  },
  {
   "cell_type": "markdown",
   "id": "c1e0f9f6",
   "metadata": {},
   "source": []
  }
 ],
 "metadata": {
  "kernelspec": {
   "display_name": "Python [conda env:NLP]",
   "language": "python",
   "name": "conda-env-NLP-py"
  },
  "language_info": {
   "codemirror_mode": {
    "name": "ipython",
    "version": 3
   },
   "file_extension": ".py",
   "mimetype": "text/x-python",
   "name": "python",
   "nbconvert_exporter": "python",
   "pygments_lexer": "ipython3",
   "version": "3.9.7"
  }
 },
 "nbformat": 4,
 "nbformat_minor": 5
}
